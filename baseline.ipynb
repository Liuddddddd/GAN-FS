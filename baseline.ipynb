{
 "cells": [
  {
   "cell_type": "markdown",
   "metadata": {},
   "source": [
    "# 机器学习算法模型"
   ]
  },
  {
   "cell_type": "markdown",
   "metadata": {},
   "source": [
    "## 1. 导入包"
   ]
  },
  {
   "cell_type": "code",
   "execution_count": 1,
   "metadata": {},
   "outputs": [],
   "source": [
    "import numpy as np\n",
    "import pandas as pd\n",
    "from sklearn.metrics import confusion_matrix\n",
    "from sklearn.metrics import classification_report"
   ]
  },
  {
   "cell_type": "markdown",
   "metadata": {},
   "source": [
    "## 2. 定义预处理函数"
   ]
  },
  {
   "cell_type": "code",
   "execution_count": 2,
   "metadata": {},
   "outputs": [],
   "source": [
    "def convertstringtonumber(df, lst):\n",
    "    \"\"\" 字符串转为数字型\"\"\"\n",
    "    for n in range(len(lst)):\n",
    "        df = df.replace(lst[n], n)\n",
    "    return df\n",
    "\n",
    "def scalex(X):\n",
    "    \"\"\" 数值标准化\"\"\"\n",
    "    nmin, nmax = 0.0, 1.0\n",
    "    X_std = (X - X.min()) / (X.max() - X.min())\n",
    "    X_scaled = X_std * (nmax - nmin) + nmin\n",
    "    return X_scaled"
   ]
  },
  {
   "cell_type": "markdown",
   "metadata": {},
   "source": [
    "## 3. 读取数据集"
   ]
  },
  {
   "cell_type": "code",
   "execution_count": 3,
   "metadata": {},
   "outputs": [
    {
     "name": "stdout",
     "output_type": "stream",
     "text": [
      "训练集维度: (125973, 42)\n",
      "测试集维度: (22544, 42)\n"
     ]
    }
   ],
   "source": [
    "col_names = [\"Duration\", \"Protocol_type\", \"Service\", \"Flag\", \"Src_bytes\", \"Dst_bytes\", \n",
    "       \"Land\", \"Wrong_fragment\", \"Urgent\", \"Hot\", \"Num_failed_logins\", \"Logged_in\", \n",
    "       \"Num_compromised\", \"Root_shell\", \"Su_attempted\", \"Num_root\", \"Num_file_creations\",\n",
    "       \"Num_shells\", \"Num_access_files\", \"Num_outbound_cmds\", \"Is_hot_login\", \n",
    "       \"Is_guest_login\", \"Count\", \"Srv_count\", \"Serror_rate\", \"Srv_serror_rate\",\n",
    "       \"Rerror_rate\", \"Srv_rerror_rate\", \"Same_srv_rate\", \"Diff_srv_rate\",\n",
    "       \"Srv_diff_host_rate\", \"Dst_host_count\", \"Dst_host_srv_count\", \"Dst_host_same_srv_rate\", \n",
    "       \"Dst_host_diff_srv_rate\", \"Dst_host_same_src_port_rate\", \"Dst_host_srv_diff_host_rate\",\n",
    "       \"Dst_host_serror_rate\", \"Dst_host_srv_serror_rate\", \"Dst_host_rerror_rate\",\n",
    "       \"Dst_host_srv_rerror_rate\", \"attack_type\", \"Class\"]\n",
    "\n",
    "df_train = pd.read_csv(\"./dataset/KDDTrain+.txt\", sep=\",\", header=None)\n",
    "df_test = pd.read_csv(\"./dataset/KDDTest+.txt\", sep=\",\", header=None)\n",
    "\n",
    "df_train.columns = col_names\n",
    "df_test.columns = col_names\n",
    "\n",
    "df_train = df_train.drop(columns=['Class'])\n",
    "df_test = df_test.drop(columns=['Class'])\n",
    "\n",
    "print('训练集维度:',df_train.shape)\n",
    "print('测试集维度:',df_test.shape)"
   ]
  },
  {
   "cell_type": "markdown",
   "metadata": {},
   "source": [
    "## 4. 数据预处理"
   ]
  },
  {
   "cell_type": "code",
   "execution_count": null,
   "metadata": {},
   "outputs": [],
   "source": [
    "protocol_type = ['icmp', 'tcp', 'udp']\n",
    "service = ['IRC','X11','Z39_50','aol','auth','bgp','courier','csnet_ns','ctf',\n",
    "           'daytime','discard','domain','domain_u','echo','eco_i','ecr_i','efs',\n",
    "           'exec','finger','ftp','ftp_data','gopher','harvest','hostnames','http',\n",
    "           'http_2784','http_443','http_8001','imap4','iso_tsap','klogin','kshell',\n",
    "           'ldap','link','login','mtp','name','netbios_dgm','netbios_ns',\n",
    "           'netbios_ssn','netstat','nnsp','nntp','ntp_u','other','pm_dump','pop_2',\n",
    "           'pop_3','printer','private','red_i','remote_job','rje','shell','smtp',\n",
    "           'sql_net','ssh','sunrpc','supdup','systat','telnet','tftp_u','tim_i',\n",
    "           'time','urh_i','urp_i','uucp','uucp_path','vmnet','whois']\n",
    "flag = ['OTH','REJ','RSTO','RSTOS0','RSTR','S0','S1','S2','S3','SF','SH']\n",
    "\n",
    "df_train = convertstringtonumber(df_train, protocol_type)\n",
    "df_train = convertstringtonumber(df_train, service)\n",
    "df_train = convertstringtonumber(df_train, flag)\n",
    "\n",
    "df_test = convertstringtonumber(df_test, protocol_type)\n",
    "df_test = convertstringtonumber(df_test, service)\n",
    "df_test = convertstringtonumber(df_test, flag)\n",
    "        \n",
    "for n in range(len(col_names)-2): #df_train标准化\n",
    "        m = col_names[n]\n",
    "        if (np.max(df_train[m]) > 1): \n",
    "            if (len(np.unique(df_train[m])) > 1):\n",
    "                df_train[m] = scalex(df_train[m])\n",
    "            else:\n",
    "                df_train[m] = np.int64(1)\n",
    "                \n",
    "for n in range(len(col_names)-2): #df_train标准化\n",
    "        m = col_names[n]\n",
    "        if (np.max(df_test[m]) > 1): \n",
    "            if (len(np.unique(df_test[m])) > 1):\n",
    "                df_test[m] = scalex(df_test[m])\n",
    "            else:\n",
    "                df_test[m] = np.int64(1)\n",
    "\n",
    "df_test.head(5)"
   ]
  },
  {
   "cell_type": "code",
   "execution_count": null,
   "metadata": {},
   "outputs": [],
   "source": [
    "labeldf_train = df_train['attack_type']\n",
    "labeldf_test = df_test['attack_type']\n",
    "\n",
    "# 用数字代替攻击类型\n",
    "newlabeldf_train = labeldf_train.replace({ 'normal' : 0,'ftp_write': 1,'guess_passwd': 1,'imap': 1,'multihop': 1,'phf': 1,'spy': 1,'warezclient': 1,'warezmaster': 1,'sendmail': 1,'named': 1,'snmpgetattack': 1,'snmpguess': 1,'xlock': 1,'xsnoop': 1,'httptunnel': 1,\n",
    "                            'ipsweep' : 1,'nmap' : 1,'portsweep' : 1,'satan' : 1,'mscan' : 1,'saint' : 1,\n",
    "                            'neptune' : 1 ,'back': 1, 'land': 1, 'pod': 1, 'smurf': 1, 'teardrop': 1,'mailbomb': 1, 'apache2': 1, 'processtable': 1, 'udpstorm': 1, 'worm': 1,\n",
    "                            'buffer_overflow': 1,'loadmodule': 1,'perl': 1,'rootkit': 1,'ps': 1,'sqlattack': 1,'xterm': 1})\n",
    "\n",
    "newlabeldf_test = labeldf_test.replace({ 'normal' : 0,'ftp_write': 1,'guess_passwd': 1,'imap': 1,'multihop': 1,'phf': 1,'spy': 1,'warezclient': 1,'warezmaster': 1,'sendmail': 1,'named': 1,'snmpgetattack': 1,'snmpguess': 1,'xlock': 1,'xsnoop': 1,'httptunnel': 1,\n",
    "                            'ipsweep' : 1,'nmap' : 1,'portsweep' : 1,'satan' : 1,'mscan' : 1,'saint' : 1,\n",
    "                            'neptune' : 1 ,'back': 1, 'land': 1, 'pod': 1, 'smurf': 1, 'teardrop': 1,'mailbomb': 1, 'apache2': 1, 'processtable': 1, 'udpstorm': 1, 'worm': 1,\n",
    "                            'buffer_overflow': 1,'loadmodule': 1,'perl': 1,'rootkit': 1,'ps': 1,'sqlattack': 1,'xterm': 1})\n",
    "\n",
    "df_train['attack_type'] = newlabeldf_train\n",
    "df_test['attack_type'] = newlabeldf_test\n",
    "\n",
    "df_test.head(5)"
   ]
  },
  {
   "cell_type": "markdown",
   "metadata": {},
   "source": [
    "## 5. 拆分数据集"
   ]
  },
  {
   "cell_type": "code",
   "execution_count": null,
   "metadata": {},
   "outputs": [],
   "source": [
    "# 二分类，分类标签为最后一列，多分类标签后边再使用\n",
    "train_X = df_train.iloc[:,0:-1]\n",
    "train_y = df_train.iloc[:,-1]\n",
    "\n",
    "test_X = df_test.iloc[:,0:-1]\n",
    "test_y = df_test.iloc[:,-1]"
   ]
  },
  {
   "cell_type": "code",
   "execution_count": null,
   "metadata": {},
   "outputs": [],
   "source": [
    "train_X.head(5)"
   ]
  },
  {
   "cell_type": "code",
   "execution_count": null,
   "metadata": {},
   "outputs": [],
   "source": [
    "train_y.head(5)"
   ]
  },
  {
   "cell_type": "markdown",
   "metadata": {},
   "source": [
    "## 6. ml实验"
   ]
  },
  {
   "cell_type": "markdown",
   "metadata": {},
   "source": [
    "### 导入模型"
   ]
  },
  {
   "cell_type": "code",
   "execution_count": null,
   "metadata": {},
   "outputs": [],
   "source": [
    "from sklearn.tree import DecisionTreeClassifier\n",
    "from sklearn.ensemble import RandomForestClassifier\n",
    "from sklearn.ensemble import GradientBoostingClassifier\n",
    "from sklearn import svm\n",
    "from sklearn.naive_bayes import BernoulliNB\n",
    "from sklearn.neighbors import KNeighborsClassifier\n",
    "from sklearn.neural_network import MLPClassifier"
   ]
  },
  {
   "cell_type": "code",
   "execution_count": 10,
   "metadata": {},
   "outputs": [],
   "source": [
    "DT_b = DecisionTreeClassifier(random_state=0) # 决策树\n",
    "RF_b = RandomForestClassifier(n_estimators=10, random_state=0) # 随机森林\n",
    "GB_b = GradientBoostingClassifier(loss='deviance', learning_rate=0.5, n_estimators=75, max_features='auto',random_state=0) # 梯度提升树\n",
    "SVM_b = svm.SVC() # SVM\n",
    "NB_b = BernoulliNB() # 朴素贝叶斯\n",
    "KNN_b = KNeighborsClassifier(n_jobs=1)\n",
    "MLP_b = MLPClassifier(solver='lbfgs', alpha=1e-5, hidden_layer_sizes=(5, 2), max_iter=1000, random_state=1) # 多层感知机"
   ]
  },
  {
   "cell_type": "markdown",
   "metadata": {},
   "source": [
    "### 6.1 决策树"
   ]
  },
  {
   "cell_type": "code",
   "execution_count": null,
   "metadata": {},
   "outputs": [],
   "source": [
    "DT_b.fit(train_X,train_y)\n",
    "DT_pred_y = DT_b.predict(test_X)\n",
    "DT_t = classification_report(test_y,DT_pred_y,digits=4)\n",
    "print(\"______________________________________________________________\") \n",
    "print(\"DT分类结果：\")\n",
    "print(DT_t)\n",
    "print(\"______________________________________________________________\")"
   ]
  },
  {
   "cell_type": "markdown",
   "metadata": {},
   "source": [
    "### 6.2 随机森林"
   ]
  },
  {
   "cell_type": "code",
   "execution_count": null,
   "metadata": {},
   "outputs": [],
   "source": [
    "RF_b.fit(train_X,train_y)\n",
    "RF_pred_y = RF_b.predict(test_X)\n",
    "RF_t = classification_report(test_y,RF_pred_y,digits=4)\n",
    "print(\"______________________________________________________________\") \n",
    "print(\"RF分类结果：\")\n",
    "print(RF_t)\n",
    "print(\"______________________________________________________________\")"
   ]
  },
  {
   "cell_type": "markdown",
   "metadata": {},
   "source": [
    "### 6.3 梯度提升树"
   ]
  },
  {
   "cell_type": "code",
   "execution_count": null,
   "metadata": {},
   "outputs": [],
   "source": [
    "GB_b.fit(train_X,train_y)\n",
    "GB_pred_y = GB_b.predict(test_X)\n",
    "GB_t = classification_report(test_y,GB_pred_y,digits=4)\n",
    "print(\"______________________________________________________________\") \n",
    "print(\"GBDT分类结果：\")\n",
    "print(GB_t)\n",
    "print(\"______________________________________________________________\")"
   ]
  },
  {
   "cell_type": "markdown",
   "metadata": {},
   "source": [
    "### 6.4 支持向量机"
   ]
  },
  {
   "cell_type": "code",
   "execution_count": null,
   "metadata": {},
   "outputs": [],
   "source": [
    "SVM_b.fit(train_X,train_y)\n",
    "SVM_b.score(train_X,train_y)\n",
    "#Predict Output\n",
    "SVM_pred_y = SVM_b.predict(test_X)\n",
    "SVM_t = classification_report(test_y,SVM_pred_y,digits=4)\n",
    "print(\"______________________________________________________________\") \n",
    "print(\"SVM分类结果：\")\n",
    "print(SVM_t)\n",
    "print(\"______________________________________________________________\") "
   ]
  },
  {
   "cell_type": "markdown",
   "metadata": {},
   "source": [
    "### 6.5 朴素贝叶斯"
   ]
  },
  {
   "cell_type": "code",
   "execution_count": null,
   "metadata": {},
   "outputs": [],
   "source": [
    "NB_b.fit(train_X,train_y)\n",
    "NB_pred_y = NB_b.predict(test_X)\n",
    "NB_t = classification_report(test_y,NB_pred_y,digits=4)\n",
    "print(\"______________________________________________________________\") \n",
    "print(\"NB分类结果：\")\n",
    "print(NB_t)\n",
    "print(\"______________________________________________________________\")"
   ]
  },
  {
   "cell_type": "markdown",
   "metadata": {},
   "source": [
    "### 6.6 K-NN"
   ]
  },
  {
   "cell_type": "code",
   "execution_count": null,
   "metadata": {},
   "outputs": [],
   "source": [
    "KNN_b.fit(train_X,train_y)\n",
    "KNN_pred_y = KNN_b.predict(test_X)\n",
    "KNN_t = classification_report(test_y,KNN_pred_y,digits=4)\n",
    "print(\"______________________________________________________________\") \n",
    "print(\"K-NN分类结果：\")\n",
    "print(KNN_t)\n",
    "print(\"______________________________________________________________\")"
   ]
  },
  {
   "cell_type": "markdown",
   "metadata": {},
   "source": [
    "### 6.7 多层感知机（MLP ANN）"
   ]
  },
  {
   "cell_type": "code",
   "execution_count": null,
   "metadata": {},
   "outputs": [],
   "source": [
    "MLP_b.fit(train_X,train_y)\n",
    "MLP_pred_y = MLP_b.predict(test_X)\n",
    "MLP_t = classification_report(test_y,MLP_pred_y,digits=4)\n",
    "print(\"______________________________________________________________\") \n",
    "print(\"MLP分类结果：\")\n",
    "print(MLP_t)\n",
    "print(\"______________________________________________________________\")"
   ]
  },
  {
   "cell_type": "code",
   "execution_count": null,
   "metadata": {},
   "outputs": [],
   "source": []
  }
 ],
 "metadata": {
  "kernelspec": {
   "display_name": "Python 3",
   "language": "python",
   "name": "python3"
  },
  "language_info": {
   "codemirror_mode": {
    "name": "ipython",
    "version": 3
   },
   "file_extension": ".py",
   "mimetype": "text/x-python",
   "name": "python",
   "nbconvert_exporter": "python",
   "pygments_lexer": "ipython3",
   "version": "3.6.3"
  }
 },
 "nbformat": 4,
 "nbformat_minor": 4
}
